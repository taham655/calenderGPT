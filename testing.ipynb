{
 "cells": [
  {
   "cell_type": "code",
   "execution_count": 4,
   "metadata": {},
   "outputs": [],
   "source": [
    "from openai import OpenAI\n",
    "import os \n",
    "\n",
    "client = OpenAI(\n",
    "    api_key=os.getenv(\"OPENAI_API_KEY\")\n",
    ")"
   ]
  },
  {
   "cell_type": "code",
   "execution_count": 5,
   "metadata": {},
   "outputs": [],
   "source": [
    "assistant_id = \"asst_frbnNpiXlO88YArsHgiimoXI\""
   ]
  },
  {
   "cell_type": "code",
   "execution_count": 6,
   "metadata": {},
   "outputs": [
    {
     "name": "stdout",
     "output_type": "stream",
     "text": [
      "Event created: https://www.google.com/calendar/event?eid=a2ZlM2pqNDVjc3JxOTg5dnJ2djhpb3E4a2MgdGFoYW0yMDIxNzE4QG0\n"
     ]
    }
   ],
   "source": [
    "from google_auth_oauthlib.flow import InstalledAppFlow\n",
    "from google.auth.transport.requests import Request\n",
    "from google.oauth2.credentials import Credentials\n",
    "from googleapiclient.discovery import build\n",
    "from dateutil.parser import parse\n",
    "from datetime import timedelta\n",
    "from tzlocal import get_localzone\n",
    "import tzlocal\n",
    "import os\n",
    "\n",
    "def add_event(start_time_str, summary, location=None, end_time_str=None, description=None, is_recurring=False, recurrence_rule=None):\n",
    "    # Define the scope\n",
    "    SCOPES = ['https://www.googleapis.com/auth/calendar']\n",
    "\n",
    "    # Authenticate and create a service\n",
    "    creds = None\n",
    "    if os.path.exists('token.json'):\n",
    "        creds = Credentials.from_authorized_user_file('token.json', SCOPES)\n",
    "    if not creds or not creds.valid:\n",
    "        if creds and creds.expired and creds.refresh_token:\n",
    "            creds.refresh(Request())\n",
    "        else:\n",
    "            flow = InstalledAppFlow.from_client_secrets_file('credentials.json', SCOPES)\n",
    "            creds = flow.run_local_server(port=0)\n",
    "        with open('token.json', 'w') as token:\n",
    "            token.write(creds.to_json())\n",
    "\n",
    "    service = build('calendar', 'v3', credentials=creds)\n",
    "\n",
    "    # Parse the start time and handle the timezone\n",
    "    start_time = parse(start_time_str)\n",
    "    local_timezone = tzlocal.get_localzone_name()\n",
    "\n",
    "    if not end_time_str:\n",
    "        end_time = start_time + timedelta(minutes=15)\n",
    "        end_time_str = end_time.isoformat()\n",
    "\n",
    "    # Create the event\n",
    "    event = {\n",
    "        'summary': summary,\n",
    "        'location': location,\n",
    "        'description': description,\n",
    "        'start': {\n",
    "            'dateTime': start_time_str,\n",
    "            'timeZone': local_timezone,\n",
    "        },\n",
    "        'end': {\n",
    "            'dateTime': end_time_str,\n",
    "            'timeZone': local_timezone,\n",
    "        }\n",
    "    }\n",
    "\n",
    "    if is_recurring and recurrence_rule:\n",
    "        event['recurrence'] = [recurrence_rule]\n",
    "\n",
    "    # Add the event to the calendar\n",
    "    created_event = service.events().insert(calendarId='primary', body=event).execute()\n",
    "    print('Event created: %s' % (created_event.get('htmlLink')))\n",
    "\n",
    "# Example usage of the function\n",
    "add_event('2023-12-23T23:00:00', 'Meeting with Ahmed', 'Office')\n"
   ]
  },
  {
   "cell_type": "code",
   "execution_count": 7,
   "metadata": {},
   "outputs": [
    {
     "data": {
      "text/plain": [
       "Assistant(id='asst_frbnNpiXlO88YArsHgiimoXI', created_at=1703344334, description=None, file_ids=[], instructions='You are a helpful assistant. If you are asked to add an event to the calendar, use the start time and the summary of the event with the provided add_events function to set an event in the google calender and let the user know that its done. ', metadata={}, model='gpt-3.5-turbo-1106', name='Calendar Assistant   ', object='assistant', tools=[ToolFunction(function=FunctionDefinition(name='add_event', description='Add event to Google calendar', parameters={'type': 'object', 'properties': {'start_time_str': {'type': 'string', 'description': 'The start time for the event in ISO 8601 format.'}, 'summary': {'type': 'string', 'description': 'A brief description or title of the event.'}, 'location': {'type': 'string', 'description': 'The location where the event will take place.'}, 'end_time_str': {'type': 'string', 'description': 'The end time for the event in ISO 8601 format.'}, 'description': {'type': 'string', 'description': 'A detailed description of the event.'}, 'is_recurring': {'type': 'boolean', 'description': 'Indicates whether the event is recurring.'}, 'recurrence_rule': {'type': 'string', 'description': 'The rule for recurrence if the event is recurring, formatted according to the iCalendar RRULE standard.'}}, 'required': ['start_time_str', 'summary']}), type='function')])"
      ]
     },
     "execution_count": 7,
     "metadata": {},
     "output_type": "execute_result"
    }
   ],
   "source": [
    "assistant = client.beta.assistants.retrieve(\n",
    "    assistant_id=assistant_id\n",
    ")\n",
    "assistant "
   ]
  },
  {
   "cell_type": "code",
   "execution_count": 8,
   "metadata": {},
   "outputs": [
    {
     "data": {
      "text/plain": [
       "Thread(id='thread_iZ6pH7OZc6qAaDrgewAV5g5o', created_at=1703344533, metadata={}, object='thread')"
      ]
     },
     "execution_count": 8,
     "metadata": {},
     "output_type": "execute_result"
    }
   ],
   "source": [
    "thread = client.beta.threads.create()\n",
    "thread"
   ]
  },
  {
   "cell_type": "code",
   "execution_count": 10,
   "metadata": {},
   "outputs": [
    {
     "data": {
      "text/plain": [
       "Run(id='run_RsFH7WeIdLURji9aTutvpX6E', assistant_id='asst_frbnNpiXlO88YArsHgiimoXI', cancelled_at=None, completed_at=None, created_at=1703344656, expires_at=1703345256, failed_at=None, file_ids=[], instructions='set an event for tomorrow at 3pm with Ahmed for coding practice, its going to be about 3 hours long and we will be using python', last_error=None, metadata={}, model='gpt-3.5-turbo-1106', object='thread.run', required_action=None, started_at=None, status='queued', thread_id='thread_iZ6pH7OZc6qAaDrgewAV5g5o', tools=[ToolAssistantToolsFunction(function=FunctionDefinition(name='add_event', description='Add event to Google calendar', parameters={'type': 'object', 'properties': {'start_time_str': {'type': 'string', 'description': 'The start time for the event in ISO 8601 format.'}, 'summary': {'type': 'string', 'description': 'A brief description or title of the event.'}, 'location': {'type': 'string', 'description': 'The location where the event will take place.'}, 'end_time_str': {'type': 'string', 'description': 'The end time for the event in ISO 8601 format.'}, 'description': {'type': 'string', 'description': 'A detailed description of the event.'}, 'is_recurring': {'type': 'boolean', 'description': 'Indicates whether the event is recurring.'}, 'recurrence_rule': {'type': 'string', 'description': 'The rule for recurrence if the event is recurring, formatted according to the iCalendar RRULE standard.'}}, 'required': ['start_time_str', 'summary']}), type='function')])"
      ]
     },
     "execution_count": 10,
     "metadata": {},
     "output_type": "execute_result"
    }
   ],
   "source": [
    "run = client.beta.threads.runs.create(\n",
    "    thread_id=thread.id,\n",
    "    assistant_id=assistant_id,\n",
    "    instructions=\"set an event for tomorrow at 3pm with Ahmed for coding practice, its going to be about 3 hours long and we will be using python\"\n",
    ")\n",
    "run"
   ]
  },
  {
   "cell_type": "code",
   "execution_count": 11,
   "metadata": {},
   "outputs": [],
   "source": [
    "run = client.beta.threads.runs.retrieve(\n",
    "    thread_id=thread.id,\n",
    "    run_id=run.id\n",
    ")\n"
   ]
  },
  {
   "cell_type": "code",
   "execution_count": 12,
   "metadata": {},
   "outputs": [
    {
     "data": {
      "text/plain": [
       "Run(id='run_RsFH7WeIdLURji9aTutvpX6E', assistant_id='asst_frbnNpiXlO88YArsHgiimoXI', cancelled_at=None, completed_at=None, created_at=1703344656, expires_at=1703345256, failed_at=None, file_ids=[], instructions='set an event for tomorrow at 3pm with Ahmed for coding practice, its going to be about 3 hours long and we will be using python', last_error=None, metadata={}, model='gpt-3.5-turbo-1106', object='thread.run', required_action=RequiredAction(submit_tool_outputs=RequiredActionSubmitToolOutputs(tool_calls=[RequiredActionFunctionToolCall(id='call_QtpjFqLHRaUx43rowHmQWlQP', function=Function(arguments='{\"start_time_str\": \"2023-08-23T15:00:00\", \"summary\": \"Coding Practice with Ahmed\", \"location\": \"Virtual\", \"end_time_str\": \"2023-08-23T18:00:00\", \"description\": \"Python coding practice session with Ahmed.\", \"is_recurring\": false}', name='add_event'), type='function'), RequiredActionFunctionToolCall(id='call_TRLvZNwOEaGa62eh3RwGFXyY', function=Function(arguments='{\"start_time_str\": \"2023-08-23T15:00:00\", \"summary\": \"Coding Practice with Ahmed\", \"location\": \"Virtual\", \"end_time_str\": \"2023-08-23T18:00:00\", \"description\": \"Python coding practice session with Ahmed.\", \"is_recurring\": true, \"recurrence_rule\": \"FREQ=WEEKLY;UNTIL=20231231T235959Z\"}', name='add_event'), type='function')]), type='submit_tool_outputs'), started_at=1703344656, status='requires_action', thread_id='thread_iZ6pH7OZc6qAaDrgewAV5g5o', tools=[ToolAssistantToolsFunction(function=FunctionDefinition(name='add_event', description='Add event to Google calendar', parameters={'type': 'object', 'properties': {'start_time_str': {'type': 'string', 'description': 'The start time for the event in ISO 8601 format.'}, 'summary': {'type': 'string', 'description': 'A brief description or title of the event.'}, 'location': {'type': 'string', 'description': 'The location where the event will take place.'}, 'end_time_str': {'type': 'string', 'description': 'The end time for the event in ISO 8601 format.'}, 'description': {'type': 'string', 'description': 'A detailed description of the event.'}, 'is_recurring': {'type': 'boolean', 'description': 'Indicates whether the event is recurring.'}, 'recurrence_rule': {'type': 'string', 'description': 'The rule for recurrence if the event is recurring, formatted according to the iCalendar RRULE standard.'}}, 'required': ['start_time_str', 'summary']}), type='function')])"
      ]
     },
     "execution_count": 12,
     "metadata": {},
     "output_type": "execute_result"
    }
   ],
   "source": [
    "run"
   ]
  },
  {
   "cell_type": "code",
   "execution_count": 13,
   "metadata": {},
   "outputs": [
    {
     "name": "stdout",
     "output_type": "stream",
     "text": [
      "Event created: https://www.google.com/calendar/event?eid=aDVscXBmNnRkMmIydjRtdm9rNXJpOHJrajggdGFoYW0yMDIxNzE4QG0\n",
      "Event created: https://www.google.com/calendar/event?eid=N2ozdm45NzNpaGhvNjRjbzlxNXZxbGlwc2MgdGFoYW0yMDIxNzE4QG0\n"
     ]
    },
    {
     "data": {
      "text/plain": [
       "[None, None]"
      ]
     },
     "execution_count": 13,
     "metadata": {},
     "output_type": "execute_result"
    }
   ],
   "source": [
    "import json \n",
    "# start_time_str, summary, location=None, end_time_str=None, description=None, is_recurring=False, recurrence_rule=None\n",
    "def output(tool_call):\n",
    "    start_time = json.loads(tool_call.function.arguments)[\"start_time_str\"]\n",
    "    summary = json.loads(tool_call.function.arguments)[\"summary\"]\n",
    "    add_event(start_time, summary)\n",
    "\n",
    "\n",
    "\n",
    "\n",
    "tool_call = run.required_action.submit_tool_outputs.tool_calls\n",
    "tool_outputs = map(output, tool_call)\n",
    "tool_outputs = list(tool_outputs)\n",
    "tool_outputs"
   ]
  },
  {
   "cell_type": "code",
   "execution_count": 16,
   "metadata": {},
   "outputs": [
    {
     "name": "stdout",
     "output_type": "stream",
     "text": [
      "Event created: https://www.google.com/calendar/event?eid=dmtwZHBkcGpucWFob2gwYWRpNzJsN2dmYjggdGFoYW0yMDIxNzE4QG0\n"
     ]
    }
   ],
   "source": [
    "import json\n",
    "\n",
    "def output(tool_call):\n",
    "    # Assuming each tool_call item is a JSON string with the required arguments\n",
    "    arguments = json.loads(tool_call.function.arguments)\n",
    "    start_time = arguments[\"start_time_str\"]\n",
    "    summary = arguments[\"summary\"]\n",
    "\n",
    "    # Optional parameters are fetched with default values if they are not present\n",
    "    location = arguments.get(\"location\")\n",
    "    end_time_str = arguments.get(\"end_time_str\")\n",
    "    description = arguments.get(\"description\")\n",
    "    is_recurring = arguments.get(\"is_recurring\", False)\n",
    "    recurrence_rule = arguments.get(\"recurrence_rule\")\n",
    "\n",
    "    add_event(start_time, summary, location, end_time_str, description, is_recurring, recurrence_rule)\n",
    "\n",
    "# Assuming tool_call is a list of tool call objects\n",
    "tool_call = run.required_action.submit_tool_outputs.tool_calls\n",
    "\n",
    "# If you expect only one tool call and want to process only the first one\n",
    "output(tool_call[0])\n",
    "\n",
    "# If you need to handle multiple tool calls, use a for loop instead of map\n",
    "# for call in tool_call:\n",
    "#     output(call)"
   ]
  },
  {
   "cell_type": "code",
   "execution_count": null,
   "metadata": {},
   "outputs": [],
   "source": []
  }
 ],
 "metadata": {
  "kernelspec": {
   "display_name": "env",
   "language": "python",
   "name": "python3"
  },
  "language_info": {
   "codemirror_mode": {
    "name": "ipython",
    "version": 3
   },
   "file_extension": ".py",
   "mimetype": "text/x-python",
   "name": "python",
   "nbconvert_exporter": "python",
   "pygments_lexer": "ipython3",
   "version": "3.11.5"
  }
 },
 "nbformat": 4,
 "nbformat_minor": 2
}
